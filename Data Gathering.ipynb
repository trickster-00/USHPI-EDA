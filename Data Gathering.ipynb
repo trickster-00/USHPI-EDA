{
 "cells": [
  {
   "cell_type": "markdown",
   "metadata": {},
   "source": [
    "```\n",
    "To solve and analyse US Home Prices, I have collected over 10 datasets from diffrent repositories which represent different data that has some relation in deciding US Home Prices.\n",
    "```"
   ]
  },
  {
   "cell_type": "code",
   "execution_count": 1,
   "metadata": {},
   "outputs": [],
   "source": [
    "import pandas as pd\n",
    "import numpy as np\n",
    "pd.set_option(\"display.max_column\",None)"
   ]
  },
  {
   "cell_type": "code",
   "execution_count": 2,
   "metadata": {},
   "outputs": [
    {
     "data": {
      "text/html": [
       "<div>\n",
       "<style scoped>\n",
       "    .dataframe tbody tr th:only-of-type {\n",
       "        vertical-align: middle;\n",
       "    }\n",
       "\n",
       "    .dataframe tbody tr th {\n",
       "        vertical-align: top;\n",
       "    }\n",
       "\n",
       "    .dataframe thead th {\n",
       "        text-align: right;\n",
       "    }\n",
       "</style>\n",
       "<table border=\"1\" class=\"dataframe\">\n",
       "  <thead>\n",
       "    <tr style=\"text-align: right;\">\n",
       "      <th></th>\n",
       "      <th>DATE</th>\n",
       "      <th>Permit</th>\n",
       "    </tr>\n",
       "  </thead>\n",
       "  <tbody>\n",
       "    <tr>\n",
       "      <th>0</th>\n",
       "      <td>2000-01-01</td>\n",
       "      <td>1690.000000</td>\n",
       "    </tr>\n",
       "    <tr>\n",
       "      <th>1</th>\n",
       "      <td>2000-04-01</td>\n",
       "      <td>1570.666667</td>\n",
       "    </tr>\n",
       "    <tr>\n",
       "      <th>2</th>\n",
       "      <td>2000-07-01</td>\n",
       "      <td>1554.666667</td>\n",
       "    </tr>\n",
       "    <tr>\n",
       "      <th>3</th>\n",
       "      <td>2000-10-01</td>\n",
       "      <td>1578.000000</td>\n",
       "    </tr>\n",
       "    <tr>\n",
       "      <th>4</th>\n",
       "      <td>2001-01-01</td>\n",
       "      <td>1671.333333</td>\n",
       "    </tr>\n",
       "  </tbody>\n",
       "</table>\n",
       "</div>"
      ],
      "text/plain": [
       "         DATE       Permit\n",
       "0  2000-01-01  1690.000000\n",
       "1  2000-04-01  1570.666667\n",
       "2  2000-07-01  1554.666667\n",
       "3  2000-10-01  1578.000000\n",
       "4  2001-01-01  1671.333333"
      ]
     },
     "execution_count": 2,
     "metadata": {},
     "output_type": "execute_result"
    }
   ],
   "source": [
    "permit = pd.read_csv('Data/PERMIT.csv')\n",
    "permit.rename(columns={'PERMIT':'Permit'}, inplace=True)\n",
    "permit.head()"
   ]
  },
  {
   "cell_type": "code",
   "execution_count": 3,
   "metadata": {},
   "outputs": [
    {
     "data": {
      "text/html": [
       "<div>\n",
       "<style scoped>\n",
       "    .dataframe tbody tr th:only-of-type {\n",
       "        vertical-align: middle;\n",
       "    }\n",
       "\n",
       "    .dataframe tbody tr th {\n",
       "        vertical-align: top;\n",
       "    }\n",
       "\n",
       "    .dataframe thead th {\n",
       "        text-align: right;\n",
       "    }\n",
       "</style>\n",
       "<table border=\"1\" class=\"dataframe\">\n",
       "  <thead>\n",
       "    <tr style=\"text-align: right;\">\n",
       "      <th></th>\n",
       "      <th>DATE</th>\n",
       "      <th>Total_constuctions</th>\n",
       "    </tr>\n",
       "  </thead>\n",
       "  <tbody>\n",
       "    <tr>\n",
       "      <th>0</th>\n",
       "      <td>2000-01-01</td>\n",
       "      <td>2388136</td>\n",
       "    </tr>\n",
       "    <tr>\n",
       "      <th>1</th>\n",
       "      <td>2000-04-01</td>\n",
       "      <td>2405182</td>\n",
       "    </tr>\n",
       "    <tr>\n",
       "      <th>2</th>\n",
       "      <td>2000-07-01</td>\n",
       "      <td>2403466</td>\n",
       "    </tr>\n",
       "    <tr>\n",
       "      <th>3</th>\n",
       "      <td>2000-10-01</td>\n",
       "      <td>2447670</td>\n",
       "    </tr>\n",
       "    <tr>\n",
       "      <th>4</th>\n",
       "      <td>2001-01-01</td>\n",
       "      <td>2456183</td>\n",
       "    </tr>\n",
       "  </tbody>\n",
       "</table>\n",
       "</div>"
      ],
      "text/plain": [
       "         DATE Total_constuctions\n",
       "0  2000-01-01            2388136\n",
       "1  2000-04-01            2405182\n",
       "2  2000-07-01            2403466\n",
       "3  2000-10-01            2447670\n",
       "4  2001-01-01            2456183"
      ]
     },
     "execution_count": 3,
     "metadata": {},
     "output_type": "execute_result"
    }
   ],
   "source": [
    "construction = pd.read_csv('Data/fredgraph(construction).csv')\n",
    "construction.rename(columns={'TTLCONS':'Total_constuctions'}, inplace=True)\n",
    "construction.drop(construction.index[84:],inplace=True)\n",
    "construction.head()"
   ]
  },
  {
   "cell_type": "code",
   "execution_count": 4,
   "metadata": {},
   "outputs": [
    {
     "data": {
      "text/html": [
       "<div>\n",
       "<style scoped>\n",
       "    .dataframe tbody tr th:only-of-type {\n",
       "        vertical-align: middle;\n",
       "    }\n",
       "\n",
       "    .dataframe tbody tr th {\n",
       "        vertical-align: top;\n",
       "    }\n",
       "\n",
       "    .dataframe thead th {\n",
       "        text-align: right;\n",
       "    }\n",
       "</style>\n",
       "<table border=\"1\" class=\"dataframe\">\n",
       "  <thead>\n",
       "    <tr style=\"text-align: right;\">\n",
       "      <th></th>\n",
       "      <th>DATE</th>\n",
       "      <th>Homes_sold</th>\n",
       "    </tr>\n",
       "  </thead>\n",
       "  <tbody>\n",
       "    <tr>\n",
       "      <th>0</th>\n",
       "      <td>2000-01-01</td>\n",
       "      <td>923.0</td>\n",
       "    </tr>\n",
       "    <tr>\n",
       "      <th>1</th>\n",
       "      <td>2000-04-01</td>\n",
       "      <td>916.0</td>\n",
       "    </tr>\n",
       "    <tr>\n",
       "      <th>2</th>\n",
       "      <td>2000-07-01</td>\n",
       "      <td>905.0</td>\n",
       "    </tr>\n",
       "    <tr>\n",
       "      <th>3</th>\n",
       "      <td>2000-10-01</td>\n",
       "      <td>904.0</td>\n",
       "    </tr>\n",
       "    <tr>\n",
       "      <th>4</th>\n",
       "      <td>2001-01-01</td>\n",
       "      <td>884.0</td>\n",
       "    </tr>\n",
       "  </tbody>\n",
       "</table>\n",
       "</div>"
      ],
      "text/plain": [
       "         DATE  Homes_sold\n",
       "0  2000-01-01       923.0\n",
       "1  2000-04-01       916.0\n",
       "2  2000-07-01       905.0\n",
       "3  2000-10-01       904.0\n",
       "4  2001-01-01       884.0"
      ]
     },
     "execution_count": 4,
     "metadata": {},
     "output_type": "execute_result"
    }
   ],
   "source": [
    "home_sold = pd.read_csv('Data/HNFSEPUSSA(House Sold).csv')\n",
    "home_sold.rename(columns={'HNFSEPUSSA':'Homes_sold'}, inplace=True)\n",
    "home_sold.head()"
   ]
  },
  {
   "cell_type": "code",
   "execution_count": 5,
   "metadata": {},
   "outputs": [
    {
     "data": {
      "text/html": [
       "<div>\n",
       "<style scoped>\n",
       "    .dataframe tbody tr th:only-of-type {\n",
       "        vertical-align: middle;\n",
       "    }\n",
       "\n",
       "    .dataframe tbody tr th {\n",
       "        vertical-align: top;\n",
       "    }\n",
       "\n",
       "    .dataframe thead th {\n",
       "        text-align: right;\n",
       "    }\n",
       "</style>\n",
       "<table border=\"1\" class=\"dataframe\">\n",
       "  <thead>\n",
       "    <tr style=\"text-align: right;\">\n",
       "      <th></th>\n",
       "      <th>DATE</th>\n",
       "      <th>New_projects</th>\n",
       "    </tr>\n",
       "  </thead>\n",
       "  <tbody>\n",
       "    <tr>\n",
       "      <th>0</th>\n",
       "      <td>2000-01-01</td>\n",
       "      <td>1659.0000000000000000</td>\n",
       "    </tr>\n",
       "    <tr>\n",
       "      <th>1</th>\n",
       "      <td>2000-04-01</td>\n",
       "      <td>1586.6666666666666667</td>\n",
       "    </tr>\n",
       "    <tr>\n",
       "      <th>2</th>\n",
       "      <td>2000-07-01</td>\n",
       "      <td>1503.6666666666666667</td>\n",
       "    </tr>\n",
       "    <tr>\n",
       "      <th>3</th>\n",
       "      <td>2000-10-01</td>\n",
       "      <td>1544.0000000000000000</td>\n",
       "    </tr>\n",
       "    <tr>\n",
       "      <th>4</th>\n",
       "      <td>2001-01-01</td>\n",
       "      <td>1605.0000000000000000</td>\n",
       "    </tr>\n",
       "  </tbody>\n",
       "</table>\n",
       "</div>"
      ],
      "text/plain": [
       "         DATE           New_projects\n",
       "0  2000-01-01  1659.0000000000000000\n",
       "1  2000-04-01  1586.6666666666666667\n",
       "2  2000-07-01  1503.6666666666666667\n",
       "3  2000-10-01  1544.0000000000000000\n",
       "4  2001-01-01  1605.0000000000000000"
      ]
     },
     "execution_count": 5,
     "metadata": {},
     "output_type": "execute_result"
    }
   ],
   "source": [
    "house_starts = pd.read_csv('Data/HOUST(Housing Starts).csv')\n",
    "house_starts.rename(columns={'HOUST':'New_projects'}, inplace=True)\n",
    "house_starts.drop(house_starts.index[84:],inplace=True)\n",
    "house_starts.head()"
   ]
  },
  {
   "cell_type": "code",
   "execution_count": 6,
   "metadata": {},
   "outputs": [
    {
     "data": {
      "text/html": [
       "<div>\n",
       "<style scoped>\n",
       "    .dataframe tbody tr th:only-of-type {\n",
       "        vertical-align: middle;\n",
       "    }\n",
       "\n",
       "    .dataframe tbody tr th {\n",
       "        vertical-align: top;\n",
       "    }\n",
       "\n",
       "    .dataframe thead th {\n",
       "        text-align: right;\n",
       "    }\n",
       "</style>\n",
       "<table border=\"1\" class=\"dataframe\">\n",
       "  <thead>\n",
       "    <tr style=\"text-align: right;\">\n",
       "      <th></th>\n",
       "      <th>DATE</th>\n",
       "      <th>For_sale(%)</th>\n",
       "    </tr>\n",
       "  </thead>\n",
       "  <tbody>\n",
       "    <tr>\n",
       "      <th>0</th>\n",
       "      <td>2000-01-01</td>\n",
       "      <td>1.6</td>\n",
       "    </tr>\n",
       "    <tr>\n",
       "      <th>1</th>\n",
       "      <td>2000-04-01</td>\n",
       "      <td>1.5</td>\n",
       "    </tr>\n",
       "    <tr>\n",
       "      <th>2</th>\n",
       "      <td>2000-07-01</td>\n",
       "      <td>1.6</td>\n",
       "    </tr>\n",
       "    <tr>\n",
       "      <th>3</th>\n",
       "      <td>2000-10-01</td>\n",
       "      <td>1.6</td>\n",
       "    </tr>\n",
       "    <tr>\n",
       "      <th>4</th>\n",
       "      <td>2001-01-01</td>\n",
       "      <td>1.5</td>\n",
       "    </tr>\n",
       "  </tbody>\n",
       "</table>\n",
       "</div>"
      ],
      "text/plain": [
       "         DATE  For_sale(%)\n",
       "0  2000-01-01          1.6\n",
       "1  2000-04-01          1.5\n",
       "2  2000-07-01          1.6\n",
       "3  2000-10-01          1.6\n",
       "4  2001-01-01          1.5"
      ]
     },
     "execution_count": 6,
     "metadata": {},
     "output_type": "execute_result"
    }
   ],
   "source": [
    "vacancy = pd.read_csv('Data/fredgraph(Listing).csv')\n",
    "vacancy.rename(columns={'RHVRUSQ156N':'For_sale(%)'}, inplace=True)\n",
    "vacancy.head()"
   ]
  },
  {
   "cell_type": "code",
   "execution_count": 7,
   "metadata": {},
   "outputs": [],
   "source": [
    "from functools import reduce\n",
    "df = [permit,construction,home_sold,house_starts,vacancy]"
   ]
  },
  {
   "cell_type": "code",
   "execution_count": 8,
   "metadata": {},
   "outputs": [],
   "source": [
    "supply_df = reduce(lambda left,right: pd.merge(left,right,on=['DATE'],how='inner'),df)"
   ]
  },
  {
   "cell_type": "code",
   "execution_count": 9,
   "metadata": {},
   "outputs": [],
   "source": [
    "supply_df.DATE = pd.to_datetime(supply_df.DATE)"
   ]
  },
  {
   "cell_type": "code",
   "execution_count": 10,
   "metadata": {},
   "outputs": [],
   "source": [
    "supply_df.New_projects = pd.to_numeric(supply_df.New_projects)\n",
    "supply_df.Total_constuctions = pd.to_numeric(supply_df.Total_constuctions)\n",
    "data_types_dict = {'Permit': int, 'Homes_sold':int, 'New_projects':int}\n",
    "supply_df = supply_df.astype(data_types_dict)"
   ]
  },
  {
   "cell_type": "code",
   "execution_count": 11,
   "metadata": {},
   "outputs": [
    {
     "data": {
      "text/html": [
       "<div>\n",
       "<style scoped>\n",
       "    .dataframe tbody tr th:only-of-type {\n",
       "        vertical-align: middle;\n",
       "    }\n",
       "\n",
       "    .dataframe tbody tr th {\n",
       "        vertical-align: top;\n",
       "    }\n",
       "\n",
       "    .dataframe thead th {\n",
       "        text-align: right;\n",
       "    }\n",
       "</style>\n",
       "<table border=\"1\" class=\"dataframe\">\n",
       "  <thead>\n",
       "    <tr style=\"text-align: right;\">\n",
       "      <th></th>\n",
       "      <th>DATE</th>\n",
       "      <th>Permit</th>\n",
       "      <th>Total_constuctions</th>\n",
       "      <th>Homes_sold</th>\n",
       "      <th>New_projects</th>\n",
       "      <th>For_sale(%)</th>\n",
       "    </tr>\n",
       "  </thead>\n",
       "  <tbody>\n",
       "    <tr>\n",
       "      <th>0</th>\n",
       "      <td>2000-01-01</td>\n",
       "      <td>1690</td>\n",
       "      <td>2388136</td>\n",
       "      <td>923</td>\n",
       "      <td>1659</td>\n",
       "      <td>1.6</td>\n",
       "    </tr>\n",
       "    <tr>\n",
       "      <th>1</th>\n",
       "      <td>2000-04-01</td>\n",
       "      <td>1570</td>\n",
       "      <td>2405182</td>\n",
       "      <td>916</td>\n",
       "      <td>1586</td>\n",
       "      <td>1.5</td>\n",
       "    </tr>\n",
       "    <tr>\n",
       "      <th>2</th>\n",
       "      <td>2000-07-01</td>\n",
       "      <td>1554</td>\n",
       "      <td>2403466</td>\n",
       "      <td>905</td>\n",
       "      <td>1503</td>\n",
       "      <td>1.6</td>\n",
       "    </tr>\n",
       "    <tr>\n",
       "      <th>3</th>\n",
       "      <td>2000-10-01</td>\n",
       "      <td>1578</td>\n",
       "      <td>2447670</td>\n",
       "      <td>904</td>\n",
       "      <td>1544</td>\n",
       "      <td>1.6</td>\n",
       "    </tr>\n",
       "    <tr>\n",
       "      <th>4</th>\n",
       "      <td>2001-01-01</td>\n",
       "      <td>1671</td>\n",
       "      <td>2456183</td>\n",
       "      <td>884</td>\n",
       "      <td>1605</td>\n",
       "      <td>1.5</td>\n",
       "    </tr>\n",
       "  </tbody>\n",
       "</table>\n",
       "</div>"
      ],
      "text/plain": [
       "        DATE  Permit  Total_constuctions  Homes_sold  New_projects  \\\n",
       "0 2000-01-01    1690             2388136         923          1659   \n",
       "1 2000-04-01    1570             2405182         916          1586   \n",
       "2 2000-07-01    1554             2403466         905          1503   \n",
       "3 2000-10-01    1578             2447670         904          1544   \n",
       "4 2001-01-01    1671             2456183         884          1605   \n",
       "\n",
       "   For_sale(%)  \n",
       "0          1.6  \n",
       "1          1.5  \n",
       "2          1.6  \n",
       "3          1.6  \n",
       "4          1.5  "
      ]
     },
     "execution_count": 11,
     "metadata": {},
     "output_type": "execute_result"
    }
   ],
   "source": [
    "supply_df.head()"
   ]
  },
  {
   "cell_type": "code",
   "execution_count": 12,
   "metadata": {},
   "outputs": [
    {
     "name": "stdout",
     "output_type": "stream",
     "text": [
      "<class 'pandas.core.frame.DataFrame'>\n",
      "Int64Index: 84 entries, 0 to 83\n",
      "Data columns (total 6 columns):\n",
      " #   Column              Non-Null Count  Dtype         \n",
      "---  ------              --------------  -----         \n",
      " 0   DATE                84 non-null     datetime64[ns]\n",
      " 1   Permit              84 non-null     int64         \n",
      " 2   Total_constuctions  84 non-null     int64         \n",
      " 3   Homes_sold          84 non-null     int64         \n",
      " 4   New_projects        84 non-null     int64         \n",
      " 5   For_sale(%)         84 non-null     float64       \n",
      "dtypes: datetime64[ns](1), float64(1), int64(4)\n",
      "memory usage: 4.6 KB\n"
     ]
    }
   ],
   "source": [
    "supply_df.info()"
   ]
  },
  {
   "cell_type": "code",
   "execution_count": 14,
   "metadata": {},
   "outputs": [],
   "source": [
    "supply_df.to_csv('supply_df')"
   ]
  },
  {
   "cell_type": "code",
   "execution_count": 15,
   "metadata": {},
   "outputs": [
    {
     "data": {
      "text/html": [
       "<div>\n",
       "<style scoped>\n",
       "    .dataframe tbody tr th:only-of-type {\n",
       "        vertical-align: middle;\n",
       "    }\n",
       "\n",
       "    .dataframe tbody tr th {\n",
       "        vertical-align: top;\n",
       "    }\n",
       "\n",
       "    .dataframe thead th {\n",
       "        text-align: right;\n",
       "    }\n",
       "</style>\n",
       "<table border=\"1\" class=\"dataframe\">\n",
       "  <thead>\n",
       "    <tr style=\"text-align: right;\">\n",
       "      <th></th>\n",
       "      <th>DATE</th>\n",
       "      <th>Unemplyment_rate(%)</th>\n",
       "      <th>Mortgage(%)</th>\n",
       "      <th>GDP(Billions$)</th>\n",
       "      <th>Delinquency_rate(%)</th>\n",
       "    </tr>\n",
       "  </thead>\n",
       "  <tbody>\n",
       "    <tr>\n",
       "      <th>0</th>\n",
       "      <td>2000-01-01</td>\n",
       "      <td>4.03</td>\n",
       "      <td>8.26</td>\n",
       "      <td>12935.252</td>\n",
       "      <td>1.95</td>\n",
       "    </tr>\n",
       "    <tr>\n",
       "      <th>1</th>\n",
       "      <td>2000-04-01</td>\n",
       "      <td>3.93</td>\n",
       "      <td>8.32</td>\n",
       "      <td>13170.749</td>\n",
       "      <td>1.97</td>\n",
       "    </tr>\n",
       "    <tr>\n",
       "      <th>2</th>\n",
       "      <td>2000-07-01</td>\n",
       "      <td>4.00</td>\n",
       "      <td>8.02</td>\n",
       "      <td>13183.890</td>\n",
       "      <td>2.09</td>\n",
       "    </tr>\n",
       "    <tr>\n",
       "      <th>3</th>\n",
       "      <td>2000-10-01</td>\n",
       "      <td>3.90</td>\n",
       "      <td>7.62</td>\n",
       "      <td>13262.250</td>\n",
       "      <td>2.23</td>\n",
       "    </tr>\n",
       "    <tr>\n",
       "      <th>4</th>\n",
       "      <td>2001-01-01</td>\n",
       "      <td>4.23</td>\n",
       "      <td>7.01</td>\n",
       "      <td>13219.251</td>\n",
       "      <td>2.34</td>\n",
       "    </tr>\n",
       "  </tbody>\n",
       "</table>\n",
       "</div>"
      ],
      "text/plain": [
       "        DATE  Unemplyment_rate(%)  Mortgage(%)  GDP(Billions$)  \\\n",
       "0 2000-01-01                 4.03         8.26       12935.252   \n",
       "1 2000-04-01                 3.93         8.32       13170.749   \n",
       "2 2000-07-01                 4.00         8.02       13183.890   \n",
       "3 2000-10-01                 3.90         7.62       13262.250   \n",
       "4 2001-01-01                 4.23         7.01       13219.251   \n",
       "\n",
       "   Delinquency_rate(%)  \n",
       "0                 1.95  \n",
       "1                 1.97  \n",
       "2                 2.09  \n",
       "3                 2.23  \n",
       "4                 2.34  "
      ]
     },
     "execution_count": 15,
     "metadata": {},
     "output_type": "execute_result"
    }
   ],
   "source": [
    "demand = pd.read_csv('Data/demand_data.csv')\n",
    "demand.drop('HPI', axis=1, inplace=True)\n",
    "rename_lis = {'UNEM_RATE':'Unemplyment_rate(%)','MORTGAGE':'Mortgage(%)','GDPC1':'GDP(Billions$)','FORECLOSURES':'Delinquency_rate(%)'}\n",
    "demand.rename(columns=rename_lis,inplace=True)\n",
    "demand.DATE = pd.to_datetime(demand.DATE)\n",
    "demand.head()"
   ]
  },
  {
   "cell_type": "code",
   "execution_count": 16,
   "metadata": {},
   "outputs": [
    {
     "name": "stdout",
     "output_type": "stream",
     "text": [
      "<class 'pandas.core.frame.DataFrame'>\n",
      "RangeIndex: 84 entries, 0 to 83\n",
      "Data columns (total 5 columns):\n",
      " #   Column               Non-Null Count  Dtype         \n",
      "---  ------               --------------  -----         \n",
      " 0   DATE                 84 non-null     datetime64[ns]\n",
      " 1   Unemplyment_rate(%)  84 non-null     float64       \n",
      " 2   Mortgage(%)          84 non-null     float64       \n",
      " 3   GDP(Billions$)       84 non-null     float64       \n",
      " 4   Delinquency_rate(%)  84 non-null     float64       \n",
      "dtypes: datetime64[ns](1), float64(4)\n",
      "memory usage: 3.4 KB\n"
     ]
    }
   ],
   "source": [
    "demand.info()"
   ]
  },
  {
   "cell_type": "code",
   "execution_count": 17,
   "metadata": {},
   "outputs": [],
   "source": [
    "demand.to_csv('demand_df')"
   ]
  },
  {
   "cell_type": "code",
   "execution_count": 28,
   "metadata": {},
   "outputs": [
    {
     "data": {
      "text/html": [
       "<div>\n",
       "<style scoped>\n",
       "    .dataframe tbody tr th:only-of-type {\n",
       "        vertical-align: middle;\n",
       "    }\n",
       "\n",
       "    .dataframe tbody tr th {\n",
       "        vertical-align: top;\n",
       "    }\n",
       "\n",
       "    .dataframe thead th {\n",
       "        text-align: right;\n",
       "    }\n",
       "</style>\n",
       "<table border=\"1\" class=\"dataframe\">\n",
       "  <thead>\n",
       "    <tr style=\"text-align: right;\">\n",
       "      <th></th>\n",
       "      <th>DATE</th>\n",
       "      <th>Home_price</th>\n",
       "    </tr>\n",
       "  </thead>\n",
       "  <tbody>\n",
       "    <tr>\n",
       "      <th>79</th>\n",
       "      <td>2019-10-01</td>\n",
       "      <td>212.450000</td>\n",
       "    </tr>\n",
       "    <tr>\n",
       "      <th>80</th>\n",
       "      <td>2020-01-01</td>\n",
       "      <td>215.541667</td>\n",
       "    </tr>\n",
       "    <tr>\n",
       "      <th>81</th>\n",
       "      <td>2020-04-01</td>\n",
       "      <td>217.803333</td>\n",
       "    </tr>\n",
       "    <tr>\n",
       "      <th>82</th>\n",
       "      <td>2020-07-01</td>\n",
       "      <td>222.705667</td>\n",
       "    </tr>\n",
       "    <tr>\n",
       "      <th>83</th>\n",
       "      <td>2020-10-01</td>\n",
       "      <td>232.543667</td>\n",
       "    </tr>\n",
       "  </tbody>\n",
       "</table>\n",
       "</div>"
      ],
      "text/plain": [
       "         DATE  Home_price\n",
       "79 2019-10-01  212.450000\n",
       "80 2020-01-01  215.541667\n",
       "81 2020-04-01  217.803333\n",
       "82 2020-07-01  222.705667\n",
       "83 2020-10-01  232.543667"
      ]
     },
     "execution_count": 28,
     "metadata": {},
     "output_type": "execute_result"
    }
   ],
   "source": [
    "hpi = pd.read_csv('Data/fredgraph(HPI).csv')\n",
    "hpi.rename(columns={'CSUSHPISA':'Home_price'},inplace=True)\n",
    "hpi.DATE = pd.to_datetime(hpi.DATE)\n",
    "hpi.tail()"
   ]
  },
  {
   "cell_type": "code",
   "execution_count": 29,
   "metadata": {},
   "outputs": [],
   "source": [
    "hpi.to_csv('HPI')"
   ]
  },
  {
   "cell_type": "code",
   "execution_count": 32,
   "metadata": {},
   "outputs": [],
   "source": [
    "from functools import reduce\n",
    "\n",
    "dfs = [demand,supply_df,hpi]\n",
    "\n",
    "data = reduce(lambda left,right: pd.merge(left,right, on=['DATE'], how='inner'),dfs)\n",
    "data.set_index(\"DATE\", inplace=True)\n",
    "\n",
    "data.to_csv('HP_data')"
   ]
  }
 ],
 "metadata": {
  "kernelspec": {
   "display_name": "Python 3",
   "language": "python",
   "name": "python3"
  },
  "language_info": {
   "codemirror_mode": {
    "name": "ipython",
    "version": 3
   },
   "file_extension": ".py",
   "mimetype": "text/x-python",
   "name": "python",
   "nbconvert_exporter": "python",
   "pygments_lexer": "ipython3",
   "version": "3.8.5"
  }
 },
 "nbformat": 4,
 "nbformat_minor": 4
}
